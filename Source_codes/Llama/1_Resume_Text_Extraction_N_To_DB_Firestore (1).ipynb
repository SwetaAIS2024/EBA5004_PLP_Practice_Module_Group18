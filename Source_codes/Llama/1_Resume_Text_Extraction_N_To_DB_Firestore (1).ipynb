{
  "nbformat": 4,
  "nbformat_minor": 0,
  "metadata": {
    "colab": {
      "provenance": []
    },
    "kernelspec": {
      "name": "python3",
      "display_name": "Python 3"
    },
    "language_info": {
      "name": "python"
    }
  },
  "cells": [
    {
      "cell_type": "code",
      "execution_count": null,
      "metadata": {
        "colab": {
          "base_uri": "https://localhost:8080/"
        },
        "id": "b_c5hDdAj6M7",
        "outputId": "c9b75db1-578a-43a0-92da-78510d38ec70"
      },
      "outputs": [
        {
          "output_type": "stream",
          "name": "stdout",
          "text": [
            "Collecting python-docx\n",
            "  Downloading python_docx-1.1.2-py3-none-any.whl.metadata (2.0 kB)\n",
            "Requirement already satisfied: lxml>=3.1.0 in /usr/local/lib/python3.11/dist-packages (from python-docx) (5.3.2)\n",
            "Requirement already satisfied: typing-extensions>=4.9.0 in /usr/local/lib/python3.11/dist-packages (from python-docx) (4.13.2)\n",
            "Downloading python_docx-1.1.2-py3-none-any.whl (244 kB)\n",
            "\u001b[2K   \u001b[90m━━━━━━━━━━━━━━━━━━━━━━━━━━━━━━━━━━━━━━━━\u001b[0m \u001b[32m244.3/244.3 kB\u001b[0m \u001b[31m4.0 MB/s\u001b[0m eta \u001b[36m0:00:00\u001b[0m\n",
            "\u001b[?25hInstalling collected packages: python-docx\n",
            "Successfully installed python-docx-1.1.2\n",
            "Collecting pymongo[srv]\n",
            "  Downloading pymongo-4.12.0-cp311-cp311-manylinux_2_17_x86_64.manylinux2014_x86_64.whl.metadata (22 kB)\n",
            "\u001b[33mWARNING: pymongo 4.12.0 does not provide the extra 'srv'\u001b[0m\u001b[33m\n",
            "\u001b[0mCollecting dnspython<3.0.0,>=1.16.0 (from pymongo[srv])\n",
            "  Downloading dnspython-2.7.0-py3-none-any.whl.metadata (5.8 kB)\n",
            "Downloading dnspython-2.7.0-py3-none-any.whl (313 kB)\n",
            "\u001b[2K   \u001b[90m━━━━━━━━━━━━━━━━━━━━━━━━━━━━━━━━━━━━━━━━\u001b[0m \u001b[32m313.6/313.6 kB\u001b[0m \u001b[31m7.0 MB/s\u001b[0m eta \u001b[36m0:00:00\u001b[0m\n",
            "\u001b[?25hDownloading pymongo-4.12.0-cp311-cp311-manylinux_2_17_x86_64.manylinux2014_x86_64.whl (1.4 MB)\n",
            "\u001b[2K   \u001b[90m━━━━━━━━━━━━━━━━━━━━━━━━━━━━━━━━━━━━━━━━\u001b[0m \u001b[32m1.4/1.4 MB\u001b[0m \u001b[31m34.3 MB/s\u001b[0m eta \u001b[36m0:00:00\u001b[0m\n",
            "\u001b[?25hInstalling collected packages: dnspython, pymongo\n",
            "Successfully installed dnspython-2.7.0 pymongo-4.12.0\n",
            "Mounted at /content/drive\n"
          ]
        }
      ],
      "source": [
        "# --- Step 1: Install Required Libraries ---\n",
        "!pip install python-docx\n",
        "!pip install pymongo[srv]\n",
        "\n",
        "# --- Step 2: Mount Google Drive ---\n",
        "from google.colab import drive\n",
        "drive.mount('/content/drive')\n"
      ]
    },
    {
      "cell_type": "code",
      "source": [
        "# --- Step 3: Import Libraries ---\n",
        "import os\n",
        "import re\n",
        "import time\n",
        "from docx import Document\n",
        "from pymongo import MongoClient\n",
        "from tqdm import tqdm"
      ],
      "metadata": {
        "id": "MlgmPivNpR5v"
      },
      "execution_count": null,
      "outputs": []
    },
    {
      "cell_type": "code",
      "source": [
        "from google.colab import files\n",
        "uploaded = files.upload()  # Upload your service account JSON here"
      ],
      "metadata": {
        "colab": {
          "base_uri": "https://localhost:8080/",
          "height": 71
        },
        "id": "FviFQ97gtJwl",
        "outputId": "ccb56f76-068c-413c-ecb8-b9254de6ec4d"
      },
      "execution_count": null,
      "outputs": [
        {
          "output_type": "display_data",
          "data": {
            "text/plain": [
              "<IPython.core.display.HTML object>"
            ],
            "text/html": [
              "\n",
              "     <input type=\"file\" id=\"files-c7b6fd86-abdc-46fc-b0ac-8adab7938cc1\" name=\"files[]\" multiple disabled\n",
              "        style=\"border:none\" />\n",
              "     <output id=\"result-c7b6fd86-abdc-46fc-b0ac-8adab7938cc1\">\n",
              "      Upload widget is only available when the cell has been executed in the\n",
              "      current browser session. Please rerun this cell to enable.\n",
              "      </output>\n",
              "      <script>// Copyright 2017 Google LLC\n",
              "//\n",
              "// Licensed under the Apache License, Version 2.0 (the \"License\");\n",
              "// you may not use this file except in compliance with the License.\n",
              "// You may obtain a copy of the License at\n",
              "//\n",
              "//      http://www.apache.org/licenses/LICENSE-2.0\n",
              "//\n",
              "// Unless required by applicable law or agreed to in writing, software\n",
              "// distributed under the License is distributed on an \"AS IS\" BASIS,\n",
              "// WITHOUT WARRANTIES OR CONDITIONS OF ANY KIND, either express or implied.\n",
              "// See the License for the specific language governing permissions and\n",
              "// limitations under the License.\n",
              "\n",
              "/**\n",
              " * @fileoverview Helpers for google.colab Python module.\n",
              " */\n",
              "(function(scope) {\n",
              "function span(text, styleAttributes = {}) {\n",
              "  const element = document.createElement('span');\n",
              "  element.textContent = text;\n",
              "  for (const key of Object.keys(styleAttributes)) {\n",
              "    element.style[key] = styleAttributes[key];\n",
              "  }\n",
              "  return element;\n",
              "}\n",
              "\n",
              "// Max number of bytes which will be uploaded at a time.\n",
              "const MAX_PAYLOAD_SIZE = 100 * 1024;\n",
              "\n",
              "function _uploadFiles(inputId, outputId) {\n",
              "  const steps = uploadFilesStep(inputId, outputId);\n",
              "  const outputElement = document.getElementById(outputId);\n",
              "  // Cache steps on the outputElement to make it available for the next call\n",
              "  // to uploadFilesContinue from Python.\n",
              "  outputElement.steps = steps;\n",
              "\n",
              "  return _uploadFilesContinue(outputId);\n",
              "}\n",
              "\n",
              "// This is roughly an async generator (not supported in the browser yet),\n",
              "// where there are multiple asynchronous steps and the Python side is going\n",
              "// to poll for completion of each step.\n",
              "// This uses a Promise to block the python side on completion of each step,\n",
              "// then passes the result of the previous step as the input to the next step.\n",
              "function _uploadFilesContinue(outputId) {\n",
              "  const outputElement = document.getElementById(outputId);\n",
              "  const steps = outputElement.steps;\n",
              "\n",
              "  const next = steps.next(outputElement.lastPromiseValue);\n",
              "  return Promise.resolve(next.value.promise).then((value) => {\n",
              "    // Cache the last promise value to make it available to the next\n",
              "    // step of the generator.\n",
              "    outputElement.lastPromiseValue = value;\n",
              "    return next.value.response;\n",
              "  });\n",
              "}\n",
              "\n",
              "/**\n",
              " * Generator function which is called between each async step of the upload\n",
              " * process.\n",
              " * @param {string} inputId Element ID of the input file picker element.\n",
              " * @param {string} outputId Element ID of the output display.\n",
              " * @return {!Iterable<!Object>} Iterable of next steps.\n",
              " */\n",
              "function* uploadFilesStep(inputId, outputId) {\n",
              "  const inputElement = document.getElementById(inputId);\n",
              "  inputElement.disabled = false;\n",
              "\n",
              "  const outputElement = document.getElementById(outputId);\n",
              "  outputElement.innerHTML = '';\n",
              "\n",
              "  const pickedPromise = new Promise((resolve) => {\n",
              "    inputElement.addEventListener('change', (e) => {\n",
              "      resolve(e.target.files);\n",
              "    });\n",
              "  });\n",
              "\n",
              "  const cancel = document.createElement('button');\n",
              "  inputElement.parentElement.appendChild(cancel);\n",
              "  cancel.textContent = 'Cancel upload';\n",
              "  const cancelPromise = new Promise((resolve) => {\n",
              "    cancel.onclick = () => {\n",
              "      resolve(null);\n",
              "    };\n",
              "  });\n",
              "\n",
              "  // Wait for the user to pick the files.\n",
              "  const files = yield {\n",
              "    promise: Promise.race([pickedPromise, cancelPromise]),\n",
              "    response: {\n",
              "      action: 'starting',\n",
              "    }\n",
              "  };\n",
              "\n",
              "  cancel.remove();\n",
              "\n",
              "  // Disable the input element since further picks are not allowed.\n",
              "  inputElement.disabled = true;\n",
              "\n",
              "  if (!files) {\n",
              "    return {\n",
              "      response: {\n",
              "        action: 'complete',\n",
              "      }\n",
              "    };\n",
              "  }\n",
              "\n",
              "  for (const file of files) {\n",
              "    const li = document.createElement('li');\n",
              "    li.append(span(file.name, {fontWeight: 'bold'}));\n",
              "    li.append(span(\n",
              "        `(${file.type || 'n/a'}) - ${file.size} bytes, ` +\n",
              "        `last modified: ${\n",
              "            file.lastModifiedDate ? file.lastModifiedDate.toLocaleDateString() :\n",
              "                                    'n/a'} - `));\n",
              "    const percent = span('0% done');\n",
              "    li.appendChild(percent);\n",
              "\n",
              "    outputElement.appendChild(li);\n",
              "\n",
              "    const fileDataPromise = new Promise((resolve) => {\n",
              "      const reader = new FileReader();\n",
              "      reader.onload = (e) => {\n",
              "        resolve(e.target.result);\n",
              "      };\n",
              "      reader.readAsArrayBuffer(file);\n",
              "    });\n",
              "    // Wait for the data to be ready.\n",
              "    let fileData = yield {\n",
              "      promise: fileDataPromise,\n",
              "      response: {\n",
              "        action: 'continue',\n",
              "      }\n",
              "    };\n",
              "\n",
              "    // Use a chunked sending to avoid message size limits. See b/62115660.\n",
              "    let position = 0;\n",
              "    do {\n",
              "      const length = Math.min(fileData.byteLength - position, MAX_PAYLOAD_SIZE);\n",
              "      const chunk = new Uint8Array(fileData, position, length);\n",
              "      position += length;\n",
              "\n",
              "      const base64 = btoa(String.fromCharCode.apply(null, chunk));\n",
              "      yield {\n",
              "        response: {\n",
              "          action: 'append',\n",
              "          file: file.name,\n",
              "          data: base64,\n",
              "        },\n",
              "      };\n",
              "\n",
              "      let percentDone = fileData.byteLength === 0 ?\n",
              "          100 :\n",
              "          Math.round((position / fileData.byteLength) * 100);\n",
              "      percent.textContent = `${percentDone}% done`;\n",
              "\n",
              "    } while (position < fileData.byteLength);\n",
              "  }\n",
              "\n",
              "  // All done.\n",
              "  yield {\n",
              "    response: {\n",
              "      action: 'complete',\n",
              "    }\n",
              "  };\n",
              "}\n",
              "\n",
              "scope.google = scope.google || {};\n",
              "scope.google.colab = scope.google.colab || {};\n",
              "scope.google.colab._files = {\n",
              "  _uploadFiles,\n",
              "  _uploadFilesContinue,\n",
              "};\n",
              "})(self);\n",
              "</script> "
            ]
          },
          "metadata": {}
        },
        {
          "output_type": "stream",
          "name": "stdout",
          "text": [
            "Saving ai-alumni-chatbot-36a8abc75502.json to ai-alumni-chatbot-36a8abc75502.json\n"
          ]
        }
      ]
    },
    {
      "cell_type": "code",
      "source": [
        "import firebase_admin\n",
        "from firebase_admin import credentials, firestore\n",
        "\n",
        "# Replace 'your-service-account.json' with your uploaded file name\n",
        "cred = credentials.Certificate('ai-alumni-chatbot-36a8abc75502.json')\n",
        "firebase_admin.initialize_app(cred)\n",
        "\n",
        "db = firestore.client()\n",
        "\n"
      ],
      "metadata": {
        "id": "m5-un0U2tM6P"
      },
      "execution_count": null,
      "outputs": []
    },
    {
      "cell_type": "code",
      "source": [
        "\n",
        "\n",
        "# Sample alumni profile for testing\n",
        "alumni_profile = {\n",
        "    \"Name\": \"John Carter\",\n",
        "    \"Email\": \"jeffery26@example.org\",\n",
        "    \"Phone\": \"(864)217-2320\",\n",
        "    \"Location\": \"Port Christopher, Mexico\",\n",
        "    \"Skills\": [\"Java\", \"Python\", \"Vue\", \"PostgreSQL\", \"Google Cloud\"],\n",
        "    \"WorkExperience\": [\"Cybersecurity Engineer at Delacruz, Norris and Allen\", \"Cybersecurity Engineer at Campbell, Price and Wise\"],\n",
        "    \"Education\": [\"BSc in Computer Science - Lyons-Smith\", \"BSc in Computer Science - Robinson Inc\"],\n",
        "    \"source_resume\": \"John_Carter.docx\"\n",
        "}\n",
        "\n",
        "# Insert this test profile into Firestore\n",
        "doc_ref = db.collection('alumni_profiles').document()\n",
        "doc_ref.set(alumni_profile)\n",
        "\n",
        "print(\"✅ Test alumni profile inserted into Firestore!\")\n",
        "\n",
        "doc_ref = db.collection('alumni_profiles').document()\n",
        "doc_ref.set(alumni_profile)\n"
      ],
      "metadata": {
        "colab": {
          "base_uri": "https://localhost:8080/"
        },
        "id": "NgBu0xGnuVGu",
        "outputId": "c8d02a64-de51-42dd-ee01-c405b744b2ef"
      },
      "execution_count": null,
      "outputs": [
        {
          "output_type": "stream",
          "name": "stdout",
          "text": [
            "✅ Test alumni profile inserted into Firestore!\n"
          ]
        },
        {
          "output_type": "execute_result",
          "data": {
            "text/plain": [
              "update_time {\n",
              "  seconds: 1745748747\n",
              "  nanos: 716941000\n",
              "}"
            ]
          },
          "metadata": {},
          "execution_count": 5
        }
      ]
    },
    {
      "cell_type": "code",
      "source": [
        "# --- Extract Resume Text ---\n",
        "def extract_text_from_docx(file_path):\n",
        "    doc = Document(file_path)\n",
        "    full_text = [para.text.strip() for para in doc.paragraphs if para.text.strip()]\n",
        "    return full_text\n",
        "\n",
        "# --- Parse Resume to Profile ---\n",
        "def parse_resume(resume_text, source_filename=None):\n",
        "    alumni_profile = {}\n",
        "    alumni_profile[\"Name\"] = resume_text[0] if len(resume_text) > 0 else None\n",
        "\n",
        "    if len(resume_text) > 1:\n",
        "        contact_info = resume_text[1]\n",
        "        email_match = re.search(r\"[\\w\\.-]+@[\\w\\.-]+\", contact_info)\n",
        "        phone_match = re.search(r\"\\(?\\d{3}\\)?[-.\\s]?\\d{3}[-.\\s]?\\d{4}\", contact_info)\n",
        "        location = contact_info.split('Location:')[-1].strip() if 'Location:' in contact_info else \"\"\n",
        "\n",
        "        alumni_profile[\"Email\"] = email_match.group() if email_match else None\n",
        "        alumni_profile[\"Phone\"] = phone_match.group() if phone_match else None\n",
        "        alumni_profile[\"Location\"] = location\n",
        "    else:\n",
        "        alumni_profile[\"Email\"] = alumni_profile[\"Phone\"] = alumni_profile[\"Location\"] = None\n",
        "\n",
        "    section_indices = {}\n",
        "    for idx, line in enumerate(resume_text):\n",
        "        if line.lower() in [\"professional summary\", \"skills\", \"work experience\", \"education\", \"projects\"]:\n",
        "            section_indices[line.lower()] = idx\n",
        "\n",
        "    skills = []\n",
        "    if \"skills\" in section_indices and \"work experience\" in section_indices:\n",
        "        skills = resume_text[section_indices[\"skills\"]+1:section_indices[\"work experience\"]]\n",
        "\n",
        "    work_experience = []\n",
        "    if \"work experience\" in section_indices and \"education\" in section_indices:\n",
        "        work_experience = resume_text[section_indices[\"work experience\"]+1:section_indices[\"education\"]]\n",
        "\n",
        "    education = []\n",
        "    if \"education\" in section_indices and \"projects\" in section_indices:\n",
        "        education = resume_text[section_indices[\"education\"]+1:section_indices[\"projects\"]]\n",
        "\n",
        "    alumni_profile[\"Skills\"] = skills\n",
        "    alumni_profile[\"WorkExperience\"] = work_experience\n",
        "    alumni_profile[\"Education\"] = education\n",
        "    alumni_profile[\"source_resume\"] = source_filename\n",
        "\n",
        "    return alumni_profile\n",
        "\n",
        "# --- Process Resumes with Insert into Firestore ---\n",
        "def process_resumes_firestore(folder_path, batch_size=100):\n",
        "    resumes = [f for f in os.listdir(folder_path) if f.endswith(\".docx\")]\n",
        "    batch = []\n",
        "    total_inserted = 0\n",
        "\n",
        "    for idx, filename in enumerate(tqdm(resumes, desc=\"Processing Resumes\")):\n",
        "        try:\n",
        "            file_path = os.path.join(folder_path, filename)\n",
        "            resume_text = extract_text_from_docx(file_path)\n",
        "            alumni_profile = parse_resume(resume_text, source_filename=filename)\n",
        "            batch.append(alumni_profile)\n",
        "\n",
        "            # Insert after reaching batch size\n",
        "            if len(batch) >= batch_size:\n",
        "                retry_count = 0\n",
        "                while retry_count < 3:\n",
        "                    try:\n",
        "                        for profile in batch:\n",
        "                            doc_ref = db.collection('alumni_profiles').document()\n",
        "                            doc_ref.set(profile)\n",
        "                        total_inserted += len(batch)\n",
        "                        print(f\"✅ Inserted batch of {len(batch)} resumes (Total inserted: {total_inserted})\")\n",
        "                        batch = []  # Reset batch\n",
        "                        time.sleep(1)  # polite pause after each batch\n",
        "                        break\n",
        "                    except Exception as e:\n",
        "                        retry_count += 1\n",
        "                        print(f\"⚠️ Retry {retry_count}/3 for batch due to: {e}\")\n",
        "                        time.sleep(2)\n",
        "                if retry_count == 3:\n",
        "                    print(f\"❌ Failed to insert batch after 3 retries. Skipping...\")\n",
        "                    batch = []\n",
        "\n",
        "        except Exception as e:\n",
        "            print(f\"⚠️ Error processing {filename}: {e}\")\n",
        "\n",
        "    # Insert any leftover resumes\n",
        "    if batch:\n",
        "        try:\n",
        "            for profile in batch:\n",
        "                doc_ref = db.collection('alumni_profiles').document()\n",
        "                doc_ref.set(profile)\n",
        "            total_inserted += len(batch)\n",
        "            print(f\"✅ Inserted final batch of {len(batch)} resumes (Total inserted: {total_inserted})\")\n",
        "        except Exception as e:\n",
        "            print(f\"⚠️ Final batch insert failed: {e}\")\n",
        "\n",
        "    print(f\"\\n🎯 Total {total_inserted} resumes inserted successfully!\")\n",
        "\n",
        "# --- Main Execution ---\n",
        "resume_folder = \"/content/drive/MyDrive/generated_resumes/\"  # <-- your folder path\n",
        "process_resumes_firestore(resume_folder, batch_size=100)\n"
      ],
      "metadata": {
        "colab": {
          "base_uri": "https://localhost:8080/"
        },
        "id": "POQKDv9fk2lJ",
        "outputId": "185ce6b3-1c4d-48f7-b8cd-f0fe68f26ee6"
      },
      "execution_count": null,
      "outputs": [
        {
          "output_type": "stream",
          "name": "stderr",
          "text": [
            "Processing Resumes:   3%|▎         | 98/3541 [00:49<02:31, 22.72it/s]"
          ]
        },
        {
          "output_type": "stream",
          "name": "stdout",
          "text": [
            "✅ Inserted batch of 100 resumes (Total inserted: 100)\n"
          ]
        },
        {
          "output_type": "stream",
          "name": "stderr",
          "text": [
            "Processing Resumes:   6%|▌         | 195/3541 [01:19<01:32, 36.00it/s]"
          ]
        },
        {
          "output_type": "stream",
          "name": "stdout",
          "text": [
            "✅ Inserted batch of 100 resumes (Total inserted: 200)\n"
          ]
        },
        {
          "output_type": "stream",
          "name": "stderr",
          "text": [
            "Processing Resumes:   8%|▊         | 296/3541 [01:49<01:26, 37.32it/s]"
          ]
        },
        {
          "output_type": "stream",
          "name": "stdout",
          "text": [
            "✅ Inserted batch of 100 resumes (Total inserted: 300)\n"
          ]
        },
        {
          "output_type": "stream",
          "name": "stderr",
          "text": [
            "Processing Resumes:  11%|█▏        | 399/3541 [02:09<01:26, 36.20it/s]"
          ]
        },
        {
          "output_type": "stream",
          "name": "stdout",
          "text": [
            "✅ Inserted batch of 100 resumes (Total inserted: 400)\n"
          ]
        },
        {
          "output_type": "stream",
          "name": "stderr",
          "text": [
            "Processing Resumes:  14%|█▍        | 495/3541 [02:39<01:26, 35.04it/s]"
          ]
        },
        {
          "output_type": "stream",
          "name": "stdout",
          "text": [
            "✅ Inserted batch of 100 resumes (Total inserted: 500)\n"
          ]
        },
        {
          "output_type": "stream",
          "name": "stderr",
          "text": [
            "Processing Resumes:  17%|█▋        | 597/3541 [03:09<01:23, 35.29it/s]"
          ]
        },
        {
          "output_type": "stream",
          "name": "stdout",
          "text": [
            "✅ Inserted batch of 100 resumes (Total inserted: 600)\n"
          ]
        },
        {
          "output_type": "stream",
          "name": "stderr",
          "text": [
            "Processing Resumes:  20%|█▉        | 698/3541 [03:29<01:49, 26.01it/s]"
          ]
        },
        {
          "output_type": "stream",
          "name": "stdout",
          "text": [
            "✅ Inserted batch of 100 resumes (Total inserted: 700)\n"
          ]
        },
        {
          "output_type": "stream",
          "name": "stderr",
          "text": [
            "Processing Resumes:  23%|██▎       | 797/3541 [03:59<01:52, 24.34it/s]"
          ]
        },
        {
          "output_type": "stream",
          "name": "stdout",
          "text": [
            "✅ Inserted batch of 100 resumes (Total inserted: 800)\n"
          ]
        },
        {
          "output_type": "stream",
          "name": "stderr",
          "text": [
            "Processing Resumes:  25%|██▌       | 899/3541 [04:29<01:38, 26.78it/s]"
          ]
        },
        {
          "output_type": "stream",
          "name": "stdout",
          "text": [
            "✅ Inserted batch of 100 resumes (Total inserted: 900)\n"
          ]
        },
        {
          "output_type": "stream",
          "name": "stderr",
          "text": [
            "Processing Resumes:  28%|██▊       | 998/3541 [04:49<01:37, 26.22it/s]"
          ]
        },
        {
          "output_type": "stream",
          "name": "stdout",
          "text": [
            "✅ Inserted batch of 100 resumes (Total inserted: 1000)\n"
          ]
        },
        {
          "output_type": "stream",
          "name": "stderr",
          "text": [
            "Processing Resumes:  31%|███       | 1097/3541 [05:19<01:13, 33.05it/s]"
          ]
        },
        {
          "output_type": "stream",
          "name": "stdout",
          "text": [
            "✅ Inserted batch of 100 resumes (Total inserted: 1100)\n"
          ]
        },
        {
          "output_type": "stream",
          "name": "stderr",
          "text": [
            "Processing Resumes:  34%|███▍      | 1197/3541 [05:49<01:01, 38.18it/s]"
          ]
        },
        {
          "output_type": "stream",
          "name": "stdout",
          "text": [
            "✅ Inserted batch of 100 resumes (Total inserted: 1200)\n"
          ]
        },
        {
          "output_type": "stream",
          "name": "stderr",
          "text": [
            "Processing Resumes:  37%|███▋      | 1299/3541 [06:09<01:03, 35.13it/s]"
          ]
        },
        {
          "output_type": "stream",
          "name": "stdout",
          "text": [
            "✅ Inserted batch of 100 resumes (Total inserted: 1300)\n"
          ]
        },
        {
          "output_type": "stream",
          "name": "stderr",
          "text": [
            "Processing Resumes:  39%|███▉      | 1395/3541 [06:39<01:03, 34.02it/s]"
          ]
        },
        {
          "output_type": "stream",
          "name": "stdout",
          "text": [
            "✅ Inserted batch of 100 resumes (Total inserted: 1400)\n"
          ]
        },
        {
          "output_type": "stream",
          "name": "stderr",
          "text": [
            "Processing Resumes:  42%|████▏     | 1498/3541 [07:09<00:55, 36.82it/s]"
          ]
        },
        {
          "output_type": "stream",
          "name": "stdout",
          "text": [
            "✅ Inserted batch of 100 resumes (Total inserted: 1500)\n"
          ]
        },
        {
          "output_type": "stream",
          "name": "stderr",
          "text": [
            "Processing Resumes:  45%|████▌     | 1599/3541 [07:29<00:51, 37.35it/s]"
          ]
        },
        {
          "output_type": "stream",
          "name": "stdout",
          "text": [
            "✅ Inserted batch of 100 resumes (Total inserted: 1600)\n"
          ]
        },
        {
          "output_type": "stream",
          "name": "stderr",
          "text": [
            "Processing Resumes:  48%|████▊     | 1699/3541 [07:59<00:48, 37.78it/s]"
          ]
        },
        {
          "output_type": "stream",
          "name": "stdout",
          "text": [
            "✅ Inserted batch of 100 resumes (Total inserted: 1700)\n"
          ]
        },
        {
          "output_type": "stream",
          "name": "stderr",
          "text": [
            "Processing Resumes:  51%|█████     | 1795/3541 [08:19<00:49, 35.12it/s]"
          ]
        },
        {
          "output_type": "stream",
          "name": "stdout",
          "text": [
            "✅ Inserted batch of 100 resumes (Total inserted: 1800)\n"
          ]
        },
        {
          "output_type": "stream",
          "name": "stderr",
          "text": [
            "Processing Resumes:  54%|█████▎    | 1899/3541 [08:49<00:45, 35.76it/s]"
          ]
        },
        {
          "output_type": "stream",
          "name": "stdout",
          "text": [
            "✅ Inserted batch of 100 resumes (Total inserted: 1900)\n"
          ]
        },
        {
          "output_type": "stream",
          "name": "stderr",
          "text": [
            "Processing Resumes:  56%|█████▋    | 1995/3541 [09:19<00:44, 34.86it/s]"
          ]
        },
        {
          "output_type": "stream",
          "name": "stdout",
          "text": [
            "✅ Inserted batch of 100 resumes (Total inserted: 2000)\n"
          ]
        },
        {
          "output_type": "stream",
          "name": "stderr",
          "text": [
            "Processing Resumes:  59%|█████▉    | 2097/3541 [09:39<00:41, 35.12it/s]"
          ]
        },
        {
          "output_type": "stream",
          "name": "stdout",
          "text": [
            "✅ Inserted batch of 100 resumes (Total inserted: 2100)\n"
          ]
        },
        {
          "output_type": "stream",
          "name": "stderr",
          "text": [
            "Processing Resumes:  62%|██████▏   | 2196/3541 [10:09<00:38, 35.26it/s]"
          ]
        },
        {
          "output_type": "stream",
          "name": "stdout",
          "text": [
            "✅ Inserted batch of 100 resumes (Total inserted: 2200)\n"
          ]
        },
        {
          "output_type": "stream",
          "name": "stderr",
          "text": [
            "Processing Resumes:  65%|██████▍   | 2298/3541 [10:39<00:44, 27.71it/s]"
          ]
        },
        {
          "output_type": "stream",
          "name": "stdout",
          "text": [
            "✅ Inserted batch of 100 resumes (Total inserted: 2300)\n"
          ]
        },
        {
          "output_type": "stream",
          "name": "stderr",
          "text": [
            "Processing Resumes:  68%|██████▊   | 2399/3541 [10:59<00:48, 23.71it/s]"
          ]
        },
        {
          "output_type": "stream",
          "name": "stdout",
          "text": [
            "✅ Inserted batch of 100 resumes (Total inserted: 2400)\n"
          ]
        },
        {
          "output_type": "stream",
          "name": "stderr",
          "text": [
            "Processing Resumes:  71%|███████   | 2498/3541 [11:29<00:39, 26.09it/s]"
          ]
        },
        {
          "output_type": "stream",
          "name": "stdout",
          "text": [
            "✅ Inserted batch of 100 resumes (Total inserted: 2500)\n"
          ]
        },
        {
          "output_type": "stream",
          "name": "stderr",
          "text": [
            "Processing Resumes:  73%|███████▎  | 2598/3541 [11:59<00:36, 25.62it/s]"
          ]
        },
        {
          "output_type": "stream",
          "name": "stdout",
          "text": [
            "✅ Inserted batch of 100 resumes (Total inserted: 2600)\n"
          ]
        },
        {
          "output_type": "stream",
          "name": "stderr",
          "text": [
            "Processing Resumes:  76%|███████▌  | 2696/3541 [12:19<00:23, 36.39it/s]"
          ]
        },
        {
          "output_type": "stream",
          "name": "stdout",
          "text": [
            "✅ Inserted batch of 100 resumes (Total inserted: 2700)\n"
          ]
        },
        {
          "output_type": "stream",
          "name": "stderr",
          "text": [
            "Processing Resumes:  79%|███████▉  | 2799/3541 [12:49<00:20, 35.83it/s]"
          ]
        },
        {
          "output_type": "stream",
          "name": "stdout",
          "text": [
            "✅ Inserted batch of 100 resumes (Total inserted: 2800)\n"
          ]
        },
        {
          "output_type": "stream",
          "name": "stderr",
          "text": [
            "Processing Resumes:  82%|████████▏ | 2895/3541 [13:19<00:19, 33.60it/s]"
          ]
        },
        {
          "output_type": "stream",
          "name": "stdout",
          "text": [
            "✅ Inserted batch of 100 resumes (Total inserted: 2900)\n"
          ]
        },
        {
          "output_type": "stream",
          "name": "stderr",
          "text": [
            "Processing Resumes:  85%|████████▍ | 2998/3541 [13:39<00:14, 36.27it/s]"
          ]
        },
        {
          "output_type": "stream",
          "name": "stdout",
          "text": [
            "✅ Inserted batch of 100 resumes (Total inserted: 3000)\n"
          ]
        },
        {
          "output_type": "stream",
          "name": "stderr",
          "text": [
            "Processing Resumes:  87%|████████▋ | 3097/3541 [14:09<00:12, 34.44it/s]"
          ]
        },
        {
          "output_type": "stream",
          "name": "stdout",
          "text": [
            "✅ Inserted batch of 100 resumes (Total inserted: 3100)\n"
          ]
        },
        {
          "output_type": "stream",
          "name": "stderr",
          "text": [
            "Processing Resumes:  90%|█████████ | 3198/3541 [14:39<00:09, 35.66it/s]"
          ]
        },
        {
          "output_type": "stream",
          "name": "stdout",
          "text": [
            "✅ Inserted batch of 100 resumes (Total inserted: 3200)\n"
          ]
        },
        {
          "output_type": "stream",
          "name": "stderr",
          "text": [
            "Processing Resumes:  93%|█████████▎| 3299/3541 [14:59<00:06, 34.67it/s]"
          ]
        },
        {
          "output_type": "stream",
          "name": "stdout",
          "text": [
            "✅ Inserted batch of 100 resumes (Total inserted: 3300)\n"
          ]
        },
        {
          "output_type": "stream",
          "name": "stderr",
          "text": [
            "Processing Resumes:  96%|█████████▌| 3398/3541 [15:29<00:03, 36.26it/s]"
          ]
        },
        {
          "output_type": "stream",
          "name": "stdout",
          "text": [
            "✅ Inserted batch of 100 resumes (Total inserted: 3400)\n"
          ]
        },
        {
          "output_type": "stream",
          "name": "stderr",
          "text": [
            "Processing Resumes:  99%|█████████▉| 3499/3541 [15:49<00:01, 35.90it/s]"
          ]
        },
        {
          "output_type": "stream",
          "name": "stdout",
          "text": [
            "✅ Inserted batch of 100 resumes (Total inserted: 3500)\n"
          ]
        },
        {
          "output_type": "stream",
          "name": "stderr",
          "text": [
            "Processing Resumes: 100%|██████████| 3541/3541 [16:02<00:00,  3.68it/s]\n"
          ]
        },
        {
          "output_type": "stream",
          "name": "stdout",
          "text": [
            "✅ Inserted final batch of 41 resumes (Total inserted: 3541)\n",
            "\n",
            "🎯 Total 3541 resumes inserted successfully!\n"
          ]
        }
      ]
    }
  ]
}